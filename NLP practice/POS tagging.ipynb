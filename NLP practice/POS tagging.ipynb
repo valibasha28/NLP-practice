{
 "cells": [
  {
   "cell_type": "code",
   "execution_count": 1,
   "id": "6049b418-ad16-497d-a717-e090acc297d9",
   "metadata": {},
   "outputs": [],
   "source": [
    "import spacy \n",
    "nlp = spacy.load('en_core_web_sm')"
   ]
  },
  {
   "cell_type": "code",
   "execution_count": 2,
   "id": "7cec8738-0bc9-4865-a3aa-d08dc2ea4321",
   "metadata": {},
   "outputs": [],
   "source": [
    "doc = nlp('The quick brown fox jumped over lazy dag\\'s back')"
   ]
  },
  {
   "cell_type": "code",
   "execution_count": 3,
   "id": "fab75e15-1004-43ec-b1df-0dd43622adf6",
   "metadata": {},
   "outputs": [
    {
     "name": "stdout",
     "output_type": "stream",
     "text": [
      "The DET DT determiner\n",
      "quick ADJ JJ adjective (English), other noun-modifier (Chinese)\n",
      "brown ADJ JJ adjective (English), other noun-modifier (Chinese)\n",
      "fox NOUN NN noun, singular or mass\n",
      "jumped VERB VBD verb, past tense\n",
      "over ADP IN conjunction, subordinating or preposition\n",
      "lazy ADJ JJ adjective (English), other noun-modifier (Chinese)\n",
      "dag PROPN NNP noun, proper singular\n",
      "'s PART POS possessive ending\n",
      "back NOUN NN noun, singular or mass\n"
     ]
    }
   ],
   "source": [
    "for token in doc:\n",
    "    print(token.text, token.pos_, token.tag_, str(spacy.explain(token.tag_)))"
   ]
  },
  {
   "cell_type": "code",
   "execution_count": 6,
   "id": "2722b635-5783-4239-a637-b6f12e28e759",
   "metadata": {},
   "outputs": [
    {
     "name": "stdout",
     "output_type": "stream",
     "text": [
      "The        DET      DT     determiner\n",
      "quick      ADJ      JJ     adjective (English), other noun-modifier (Chinese)\n",
      "brown      ADJ      JJ     adjective (English), other noun-modifier (Chinese)\n",
      "fox        NOUN     NN     noun, singular or mass\n",
      "jumped     VERB     VBD    verb, past tense\n",
      "over       ADP      IN     conjunction, subordinating or preposition\n",
      "lazy       ADJ      JJ     adjective (English), other noun-modifier (Chinese)\n",
      "dag        PROPN    NNP    noun, proper singular\n",
      "'s         PART     POS    possessive ending\n",
      "back       NOUN     NN     noun, singular or mass\n"
     ]
    }
   ],
   "source": [
    "for token in doc:\n",
    "    print(f'{token.text:{10}} {token.pos_:{8}} {token.tag_:{6}} {str(spacy.explain(token.tag_))}' )"
   ]
  },
  {
   "cell_type": "code",
   "execution_count": 7,
   "id": "25795152-73aa-4169-93c1-c2cc7d34a86e",
   "metadata": {},
   "outputs": [],
   "source": [
    "doc = nlp('I read books on nlp')"
   ]
  },
  {
   "cell_type": "code",
   "execution_count": 8,
   "id": "02b783a3-e570-4454-bd1c-6bfb5a65a1cd",
   "metadata": {},
   "outputs": [
    {
     "data": {
      "text/plain": [
       "read"
      ]
     },
     "execution_count": 8,
     "metadata": {},
     "output_type": "execute_result"
    }
   ],
   "source": [
    "r = doc[1]\n",
    "r"
   ]
  },
  {
   "cell_type": "code",
   "execution_count": 9,
   "id": "1256d600-d046-4fcd-919a-9068a37aed62",
   "metadata": {},
   "outputs": [
    {
     "name": "stdout",
     "output_type": "stream",
     "text": [
      "read   VERB     VBP      verb, non-3rd person singular present\n"
     ]
    }
   ],
   "source": [
    "print(f'{r.text:{6}} {r.pos_:{8}} {r.tag_:{8}} {spacy.explain(r.tag_)}' )"
   ]
  },
  {
   "cell_type": "code",
   "execution_count": 10,
   "id": "5a338ef6-734e-486c-9ce5-68d7e2749439",
   "metadata": {},
   "outputs": [],
   "source": [
    "doc2 = nlp('I am reading a book on nlp')\n",
    "r = doc2[2]"
   ]
  },
  {
   "cell_type": "code",
   "execution_count": 11,
   "id": "f5b1e33e-5bc8-4d78-ac16-e700f9951b2c",
   "metadata": {},
   "outputs": [
    {
     "data": {
      "text/plain": [
       "reading"
      ]
     },
     "execution_count": 11,
     "metadata": {},
     "output_type": "execute_result"
    }
   ],
   "source": [
    "r"
   ]
  },
  {
   "cell_type": "code",
   "execution_count": 12,
   "id": "b4875235-cf67-4e83-916c-677a1e23c38e",
   "metadata": {},
   "outputs": [
    {
     "name": "stdout",
     "output_type": "stream",
     "text": [
      "reading VERB     VBG      verb, gerund or present participle\n"
     ]
    }
   ],
   "source": [
    "print(f'{r.text:{6}} {r.pos_:{8}} {r.tag_:{8}} {spacy.explain(r.tag_)}' )"
   ]
  },
  {
   "cell_type": "markdown",
   "id": "5bf2f039-9cf3-4b56-903a-c42acef04ca4",
   "metadata": {},
   "source": [
    "**Counting POS tags**"
   ]
  },
  {
   "cell_type": "code",
   "execution_count": 13,
   "id": "908deb16-24e8-4a2c-9b8f-ab9bb040675c",
   "metadata": {},
   "outputs": [],
   "source": [
    "doc = nlp('The quick brown fox jumped over the lazy dog\\'s back')"
   ]
  },
  {
   "cell_type": "code",
   "execution_count": 14,
   "id": "8fa5f18d-bcaf-4d1f-9ecd-025b27f72994",
   "metadata": {},
   "outputs": [
    {
     "data": {
      "text/plain": [
       "{90: 2, 84: 3, 92: 3, 100: 1, 85: 1, 94: 1}"
      ]
     },
     "execution_count": 14,
     "metadata": {},
     "output_type": "execute_result"
    }
   ],
   "source": [
    "pos_counts = doc.count_by(spacy.attrs.POS)\n",
    "pos_counts"
   ]
  },
  {
   "cell_type": "code",
   "execution_count": 15,
   "id": "1d60f5ab-a964-4180-b875-9400caaac720",
   "metadata": {},
   "outputs": [
    {
     "data": {
      "text/plain": [
       "'ADJ'"
      ]
     },
     "execution_count": 15,
     "metadata": {},
     "output_type": "execute_result"
    }
   ],
   "source": [
    "doc.vocab[84].text"
   ]
  },
  {
   "cell_type": "code",
   "execution_count": 16,
   "id": "ede9cd0b-97d6-4536-bb04-c58d4ffc28f0",
   "metadata": {},
   "outputs": [
    {
     "data": {
      "text/plain": [
       "'ADP'"
      ]
     },
     "execution_count": 16,
     "metadata": {},
     "output_type": "execute_result"
    }
   ],
   "source": [
    "doc.vocab[85].text"
   ]
  },
  {
   "cell_type": "code",
   "execution_count": 17,
   "id": "807ee3fb-bcec-4581-8999-9e720a1c3154",
   "metadata": {},
   "outputs": [
    {
     "data": {
      "text/plain": [
       "'adposition'"
      ]
     },
     "execution_count": 17,
     "metadata": {},
     "output_type": "execute_result"
    }
   ],
   "source": [
    "spacy.explain('ADP')"
   ]
  },
  {
   "cell_type": "code",
   "execution_count": 18,
   "id": "3989e89a-06ec-42cc-a470-61807521a03f",
   "metadata": {},
   "outputs": [
    {
     "name": "stdout",
     "output_type": "stream",
     "text": [
      "84 ADJ        : 3\n",
      "85 ADP        : 1\n",
      "90 DET        : 2\n",
      "92 NOUN       : 3\n",
      "94 PART       : 1\n",
      "100 VERB       : 1\n"
     ]
    }
   ],
   "source": [
    "for k,v in sorted(pos_counts.items()):\n",
    "    print(f'{k} {doc.vocab[k].text:{10}} : {v}')"
   ]
  },
  {
   "cell_type": "code",
   "execution_count": 20,
   "id": "f403cfed-f7d5-413b-86f9-f1ac26a38505",
   "metadata": {},
   "outputs": [
    {
     "data": {
      "text/plain": [
       "{15267657372422890137: 2,\n",
       " 10554686591937588953: 3,\n",
       " 15308085513773655218: 3,\n",
       " 17109001835818727656: 1,\n",
       " 1292078113972184607: 1,\n",
       " 74: 1}"
      ]
     },
     "execution_count": 20,
     "metadata": {},
     "output_type": "execute_result"
    }
   ],
   "source": [
    "tag_counts = doc.count_by(spacy.attrs.TAG)\n",
    "tag_counts"
   ]
  },
  {
   "cell_type": "code",
   "execution_count": 21,
   "id": "5cda3c1b-43e4-4dd4-bfb5-15719f3c6f26",
   "metadata": {},
   "outputs": [
    {
     "name": "stdout",
     "output_type": "stream",
     "text": [
      "74 POS        : 1\n",
      "1292078113972184607 IN         : 1\n",
      "10554686591937588953 JJ         : 3\n",
      "15267657372422890137 DT         : 2\n",
      "15308085513773655218 NN         : 3\n",
      "17109001835818727656 VBD        : 1\n"
     ]
    }
   ],
   "source": [
    "for k,v in sorted(tag_counts.items()):\n",
    "    print(f'{k} {doc.vocab[k].text:{10}} : {v}')"
   ]
  },
  {
   "cell_type": "code",
   "execution_count": 22,
   "id": "1b132241-d242-4ac7-bd3f-c69357173a2d",
   "metadata": {},
   "outputs": [
    {
     "data": {
      "text/plain": [
       "'adjective (English), other noun-modifier (Chinese)'"
      ]
     },
     "execution_count": 22,
     "metadata": {},
     "output_type": "execute_result"
    }
   ],
   "source": [
    "spacy.explain('JJ')"
   ]
  },
  {
   "cell_type": "code",
   "execution_count": null,
   "id": "981ae436-b47a-4000-bdb0-0d5cc3db6cf2",
   "metadata": {},
   "outputs": [],
   "source": []
  }
 ],
 "metadata": {
  "kernelspec": {
   "display_name": "Python 3 (ipykernel)",
   "language": "python",
   "name": "python3"
  },
  "language_info": {
   "codemirror_mode": {
    "name": "ipython",
    "version": 3
   },
   "file_extension": ".py",
   "mimetype": "text/x-python",
   "name": "python",
   "nbconvert_exporter": "python",
   "pygments_lexer": "ipython3",
   "version": "3.11.7"
  }
 },
 "nbformat": 4,
 "nbformat_minor": 5
}
