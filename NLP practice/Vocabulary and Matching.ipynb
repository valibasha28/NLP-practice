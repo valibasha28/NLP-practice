{
 "cells": [
  {
   "cell_type": "code",
   "execution_count": 8,
   "id": "abe5fcad-5cba-4cd8-97b9-955b9fcafa24",
   "metadata": {},
   "outputs": [],
   "source": [
    "import spacy\n",
    "nlp = spacy.load('en_core_web_sm')"
   ]
  },
  {
   "cell_type": "code",
   "execution_count": 9,
   "id": "ee054665-591e-4e23-a291-ecbaf8139863",
   "metadata": {},
   "outputs": [],
   "source": [
    "from spacy.matcher import Matcher\n",
    "matcher = Matcher(nlp.vocab)"
   ]
  },
  {
   "cell_type": "markdown",
   "id": "9e7fd8a9-b177-4722-b7e8-4893b1373aae",
   "metadata": {},
   "source": [
    "**Defining Patterns**"
   ]
  },
  {
   "cell_type": "code",
   "execution_count": 10,
   "id": "2995901d-459a-4b2b-8904-802aacd34ca3",
   "metadata": {},
   "outputs": [],
   "source": [
    "p1 = [ { 'LOWER':'quickbrownfox'} ]\n",
    "p2 = [ { 'LOWER':'quick'}, {'IS_PUNCT':True}, {'LOWER':'brown'},{'IS_PUNCT':True},{'LOWER':'fox'} ]\n",
    "p3 = [ { 'LOWER':'quick'}, {'LOWER':'brown'}, {'LOWER':'fox'} ]\n",
    "p4 = [ { 'LOWER':'quick'}, {'LOWER':'brownfox'} ]"
   ]
  },
  {
   "cell_type": "code",
   "execution_count": 14,
   "id": "7f77308a-42e0-4eb7-b1d4-b4895000d1b6",
   "metadata": {},
   "outputs": [],
   "source": [
    "matcher.add('QBF', [p1])"
   ]
  },
  {
   "cell_type": "code",
   "execution_count": 15,
   "id": "f3fd0804-ffd1-43c0-89ca-deed21cd643a",
   "metadata": {},
   "outputs": [],
   "source": [
    "matcher.add('QBF', [p2])"
   ]
  },
  {
   "cell_type": "code",
   "execution_count": 16,
   "id": "9731a821-8ee0-439d-a1a1-705c142b5bfe",
   "metadata": {},
   "outputs": [],
   "source": [
    "matcher.add('QBF', [p3])"
   ]
  },
  {
   "cell_type": "code",
   "execution_count": 17,
   "id": "c6796a3a-f46d-4e52-bb18-331ba1db88e0",
   "metadata": {},
   "outputs": [],
   "source": [
    "matcher.add('QBF', [p4])"
   ]
  },
  {
   "cell_type": "code",
   "execution_count": 18,
   "id": "be18abde-dec3-4ff6-ae74-5bc1de0256ec",
   "metadata": {},
   "outputs": [],
   "source": [
    "doc = nlp('The quick-brown-fox jumps over the lazy dog. The quick brown fox eats well. \\\n",
    "            the quickbrownfox is dead. the dog misses the quick brownfox')"
   ]
  },
  {
   "cell_type": "code",
   "execution_count": 19,
   "id": "59a0cc85-a3e2-4045-a2cc-6c89e545c302",
   "metadata": {},
   "outputs": [],
   "source": [
    "found_matches = matcher(doc)"
   ]
  },
  {
   "cell_type": "code",
   "execution_count": 20,
   "id": "56a0aeda-3385-45ae-9c59-f0a4eaca4670",
   "metadata": {},
   "outputs": [
    {
     "name": "stdout",
     "output_type": "stream",
     "text": [
      "[(12825528024649263697, 1, 6), (12825528024649263697, 13, 16), (12825528024649263697, 21, 22), (12825528024649263697, 29, 31)]\n"
     ]
    }
   ],
   "source": [
    "print(found_matches)"
   ]
  },
  {
   "cell_type": "code",
   "execution_count": 21,
   "id": "d02a5a82-3e5a-408b-bf29-0f969d19cde1",
   "metadata": {},
   "outputs": [
    {
     "name": "stdout",
     "output_type": "stream",
     "text": [
      "12825528024649263697 QBF 1 6 quick-brown-fox\n",
      "12825528024649263697 QBF 13 16 quick brown fox\n",
      "12825528024649263697 QBF 21 22 quickbrownfox\n",
      "12825528024649263697 QBF 29 31 quick brownfox\n"
     ]
    }
   ],
   "source": [
    "for match_id, start, end in found_matches:\n",
    "    string_id = nlp.vocab.strings[match_id]\n",
    "    span = doc[start:end]\n",
    "    print(match_id, string_id, start, end, span.text)"
   ]
  },
  {
   "cell_type": "code",
   "execution_count": 22,
   "id": "850d27c2-976e-4354-b7c9-9f8c60622805",
   "metadata": {},
   "outputs": [],
   "source": [
    "matcher.remove('QBF')"
   ]
  },
  {
   "cell_type": "code",
   "execution_count": 23,
   "id": "2cfc45a5-4fb5-4675-9b25-136d58d427d5",
   "metadata": {},
   "outputs": [],
   "source": [
    "p1 = [ { 'LOWER':'quick'}, {'IS_PUNCT':True, 'OP':'*'}, {'LOWER':'brown'},{'IS_PUNCT':True, 'OP':'*'},{'LOWER':'fox'} ]"
   ]
  },
  {
   "cell_type": "code",
   "execution_count": 25,
   "id": "b6605048-97a7-4fd0-9aba-4ed476d6ac77",
   "metadata": {},
   "outputs": [],
   "source": [
    "matcher.add('QBF',[p1])"
   ]
  },
  {
   "cell_type": "code",
   "execution_count": 26,
   "id": "1d28b1ec-06b6-48d6-af39-090cb7534f63",
   "metadata": {},
   "outputs": [],
   "source": [
    "doc = nlp('The quick--brown--fox jumps over the quick-brown---fox')"
   ]
  },
  {
   "cell_type": "code",
   "execution_count": 27,
   "id": "76f1c1a1-d63f-438e-8124-5ee403648ca0",
   "metadata": {},
   "outputs": [],
   "source": [
    "found_matches = matcher(doc)"
   ]
  },
  {
   "cell_type": "code",
   "execution_count": 28,
   "id": "4297e4e9-7c17-43ac-a766-036ae809b881",
   "metadata": {},
   "outputs": [
    {
     "name": "stdout",
     "output_type": "stream",
     "text": [
      "[(12825528024649263697, 1, 6), (12825528024649263697, 9, 14)]\n"
     ]
    }
   ],
   "source": [
    "print(found_matches)"
   ]
  },
  {
   "cell_type": "code",
   "execution_count": 29,
   "id": "0d5624b2-4241-410c-b065-b7a143d1fba4",
   "metadata": {},
   "outputs": [
    {
     "name": "stdout",
     "output_type": "stream",
     "text": [
      "12825528024649263697 QBF 1 6 quick--brown--fox\n",
      "12825528024649263697 QBF 9 14 quick-brown---fox\n"
     ]
    }
   ],
   "source": [
    "for match_id, start, end in found_matches:\n",
    "    string_id = nlp.vocab.strings[match_id]\n",
    "    span = doc[start:end]\n",
    "    print(match_id, string_id, start, end, span.text)"
   ]
  },
  {
   "cell_type": "code",
   "execution_count": null,
   "id": "6470205c-937a-4700-9726-7e46e6b8cde6",
   "metadata": {},
   "outputs": [],
   "source": []
  }
 ],
 "metadata": {
  "kernelspec": {
   "display_name": "Python 3 (ipykernel)",
   "language": "python",
   "name": "python3"
  },
  "language_info": {
   "codemirror_mode": {
    "name": "ipython",
    "version": 3
   },
   "file_extension": ".py",
   "mimetype": "text/x-python",
   "name": "python",
   "nbconvert_exporter": "python",
   "pygments_lexer": "ipython3",
   "version": "3.11.7"
  }
 },
 "nbformat": 4,
 "nbformat_minor": 5
}
