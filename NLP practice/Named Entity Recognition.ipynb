{
 "cells": [
  {
   "cell_type": "code",
   "execution_count": 1,
   "id": "0000ccdb-9033-452b-9f14-5486f72ee3a3",
   "metadata": {},
   "outputs": [],
   "source": [
    "import spacy\n",
    "nlp = spacy.load('en_core_web_sm')"
   ]
  },
  {
   "cell_type": "code",
   "execution_count": 2,
   "id": "6da2ac63-53cb-4d94-8a58-b4f463a301d9",
   "metadata": {},
   "outputs": [],
   "source": [
    "doc = nlp('Apple is looking at U.K. startup for buying at $6 millions.')"
   ]
  },
  {
   "cell_type": "code",
   "execution_count": 3,
   "id": "a83db3c3-8b9e-4547-b676-c77555b5b79e",
   "metadata": {},
   "outputs": [
    {
     "name": "stdout",
     "output_type": "stream",
     "text": [
      "Apple-->ORG-->Companies, agencies, institutions, etc.\n",
      "U.K.-->GPE-->Countries, cities, states\n",
      "$6 millions-->MONEY-->Monetary values, including unit\n"
     ]
    }
   ],
   "source": [
    "for token in doc.ents:\n",
    "    print(token.text + '-->' + token.label_ + '-->' + str(spacy.explain(token.label_)))"
   ]
  },
  {
   "cell_type": "code",
   "execution_count": 4,
   "id": "f90f2346-9ff2-4117-8295-8bf79531546f",
   "metadata": {},
   "outputs": [],
   "source": [
    "def show_entities(doc):\n",
    "    if doc.ents:\n",
    "        for ent in doc.ents:\n",
    "            print(ent.text +'-->' +ent.label_+ '-->'+ str(spacy.explain(ent.label_)))\n",
    "    else:\n",
    "        print('No entities found')"
   ]
  },
  {
   "cell_type": "code",
   "execution_count": 5,
   "id": "ed6633f2-5899-4ff3-bd9d-85cea4f4c598",
   "metadata": {},
   "outputs": [
    {
     "name": "stdout",
     "output_type": "stream",
     "text": [
      "Apple-->ORG-->Companies, agencies, institutions, etc.\n",
      "U.K.-->GPE-->Countries, cities, states\n",
      "$6 millions-->MONEY-->Monetary values, including unit\n"
     ]
    }
   ],
   "source": [
    "show_entities(doc)"
   ]
  },
  {
   "cell_type": "markdown",
   "id": "ba6bca3f-c644-4024-ab77-6daa9c79b3a0",
   "metadata": {},
   "source": [
    "**Adding a Named entity to Span**"
   ]
  },
  {
   "cell_type": "code",
   "execution_count": 6,
   "id": "d8db0001-0203-42c9-b4ce-9795853d75aa",
   "metadata": {},
   "outputs": [],
   "source": [
    "doc = nlp('welcome to my channel Nerchuko')"
   ]
  },
  {
   "cell_type": "code",
   "execution_count": 7,
   "id": "b188879d-3613-4d0a-86bb-1e5db4e8db03",
   "metadata": {},
   "outputs": [
    {
     "name": "stdout",
     "output_type": "stream",
     "text": [
      "No entities found\n"
     ]
    }
   ],
   "source": [
    "show_entities(doc)"
   ]
  },
  {
   "cell_type": "code",
   "execution_count": 8,
   "id": "58438916-47d1-4e31-bf35-28ad076a96be",
   "metadata": {},
   "outputs": [
    {
     "data": {
      "text/plain": [
       "5"
      ]
     },
     "execution_count": 8,
     "metadata": {},
     "output_type": "execute_result"
    }
   ],
   "source": [
    "len(doc)"
   ]
  },
  {
   "cell_type": "code",
   "execution_count": 9,
   "id": "4beb7a94-9556-4507-be6e-9f3fbb43af63",
   "metadata": {},
   "outputs": [
    {
     "data": {
      "text/plain": [
       "Nerchuko"
      ]
     },
     "execution_count": 9,
     "metadata": {},
     "output_type": "execute_result"
    }
   ],
   "source": [
    "doc[4]"
   ]
  },
  {
   "cell_type": "code",
   "execution_count": 10,
   "id": "13095900-5d76-4913-a617-3add3c104e14",
   "metadata": {},
   "outputs": [],
   "source": [
    "from spacy.tokens import Span\n",
    "ORG = doc.vocab.strings['ORG']"
   ]
  },
  {
   "cell_type": "code",
   "execution_count": 11,
   "id": "ae92a906-1f85-4d3d-a6fb-a8b75d9dc195",
   "metadata": {},
   "outputs": [
    {
     "data": {
      "text/plain": [
       "383"
      ]
     },
     "execution_count": 11,
     "metadata": {},
     "output_type": "execute_result"
    }
   ],
   "source": [
    "ORG"
   ]
  },
  {
   "cell_type": "code",
   "execution_count": 12,
   "id": "978054c5-9e79-4df1-97b4-413aa85c9267",
   "metadata": {},
   "outputs": [],
   "source": [
    "new_ent = Span(doc, 4, 5, label=ORG)"
   ]
  },
  {
   "cell_type": "code",
   "execution_count": 13,
   "id": "03d3b33a-8180-44d5-a363-15c14ab8acaf",
   "metadata": {},
   "outputs": [
    {
     "data": {
      "text/plain": [
       "Nerchuko"
      ]
     },
     "execution_count": 13,
     "metadata": {},
     "output_type": "execute_result"
    }
   ],
   "source": [
    "new_ent"
   ]
  },
  {
   "cell_type": "code",
   "execution_count": 14,
   "id": "a66970a3-9806-4042-a49f-31597c5eeb93",
   "metadata": {},
   "outputs": [],
   "source": [
    "doc.ents = list(doc.ents) + [new_ent]"
   ]
  },
  {
   "cell_type": "code",
   "execution_count": 15,
   "id": "b106b5e4-bd3b-42ed-bedd-baf57206d8c6",
   "metadata": {},
   "outputs": [
    {
     "name": "stdout",
     "output_type": "stream",
     "text": [
      "Nerchuko-->ORG-->Companies, agencies, institutions, etc.\n"
     ]
    }
   ],
   "source": [
    "show_entities(doc)"
   ]
  },
  {
   "cell_type": "code",
   "execution_count": 16,
   "id": "1d1f41d3-ada8-4139-b979-c12c7c17f8c3",
   "metadata": {},
   "outputs": [],
   "source": [
    "from spacy import displacy "
   ]
  },
  {
   "cell_type": "code",
   "execution_count": 17,
   "id": "cf278e50-882a-48b0-bcb7-3700cf3d92aa",
   "metadata": {},
   "outputs": [
    {
     "data": {
      "text/html": [
       "<span class=\"tex2jax_ignore\"><div class=\"entities\" style=\"line-height: 2.5; direction: ltr\">welcome to my channel \n",
       "<mark class=\"entity\" style=\"background: #7aecec; padding: 0.45em 0.6em; margin: 0 0.25em; line-height: 1; border-radius: 0.35em;\">\n",
       "    Nerchuko\n",
       "    <span style=\"font-size: 0.8em; font-weight: bold; line-height: 1; border-radius: 0.35em; vertical-align: middle; margin-left: 0.5rem\">ORG</span>\n",
       "</mark>\n",
       "</div></span>"
      ],
      "text/plain": [
       "<IPython.core.display.HTML object>"
      ]
     },
     "metadata": {},
     "output_type": "display_data"
    }
   ],
   "source": [
    "displacy.render(doc, style='ent', jupyter=True)"
   ]
  },
  {
   "cell_type": "markdown",
   "id": "58566ea6-2e34-4466-98ba-5f1d6db23af6",
   "metadata": {},
   "source": [
    "**Viewing specific entities**"
   ]
  },
  {
   "cell_type": "code",
   "execution_count": 19,
   "id": "0af263ef-33cc-4375-a12e-f15b06efd5b4",
   "metadata": {},
   "outputs": [
    {
     "data": {
      "text/html": [
       "<span class=\"tex2jax_ignore\"><div class=\"entities\" style=\"line-height: 2.5; direction: ltr\">welcome to my channel \n",
       "<mark class=\"entity\" style=\"background: #7aecec; padding: 0.45em 0.6em; margin: 0 0.25em; line-height: 1; border-radius: 0.35em;\">\n",
       "    Nerchuko\n",
       "    <span style=\"font-size: 0.8em; font-weight: bold; line-height: 1; border-radius: 0.35em; vertical-align: middle; margin-left: 0.5rem\">ORG</span>\n",
       "</mark>\n",
       "</div></span>"
      ],
      "text/plain": [
       "<IPython.core.display.HTML object>"
      ]
     },
     "metadata": {},
     "output_type": "display_data"
    }
   ],
   "source": [
    "options = {'ents':['ORG', 'PRODUCT']}\n",
    "displacy.render(doc, style='ent', jupyter = True)"
   ]
  },
  {
   "cell_type": "code",
   "execution_count": null,
   "id": "ee7eabdf-ea8f-4443-9730-f5582b404824",
   "metadata": {},
   "outputs": [],
   "source": []
  }
 ],
 "metadata": {
  "kernelspec": {
   "display_name": "Python 3 (ipykernel)",
   "language": "python",
   "name": "python3"
  },
  "language_info": {
   "codemirror_mode": {
    "name": "ipython",
    "version": 3
   },
   "file_extension": ".py",
   "mimetype": "text/x-python",
   "name": "python",
   "nbconvert_exporter": "python",
   "pygments_lexer": "ipython3",
   "version": "3.11.7"
  }
 },
 "nbformat": 4,
 "nbformat_minor": 5
}
