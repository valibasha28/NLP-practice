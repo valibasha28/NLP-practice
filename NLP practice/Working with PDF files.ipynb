{
 "cells": [
  {
   "cell_type": "code",
   "execution_count": 39,
   "id": "afd2e933-ca4b-490e-9b3c-bfeeb1fc20b0",
   "metadata": {},
   "outputs": [],
   "source": [
    "file = open(r\"C:\\Users\\BASHA\\Desktop\\pdf\\bills\\4yearTutionfee.pdf\", 'rb')"
   ]
  },
  {
   "cell_type": "code",
   "execution_count": 40,
   "id": "80b3bf46-d806-4a1b-8a73-49fae8b543e3",
   "metadata": {},
   "outputs": [],
   "source": [
    "import PyPDF2"
   ]
  },
  {
   "cell_type": "code",
   "execution_count": 41,
   "id": "7c2a1b5a-48ee-4fe8-94d3-3bb2badb6181",
   "metadata": {},
   "outputs": [],
   "source": [
    "pdf_reader = PyPDF2.PdfReader(file)"
   ]
  },
  {
   "cell_type": "code",
   "execution_count": 42,
   "id": "894758d4-d8ca-4ef4-ad14-2b8b4eaf4848",
   "metadata": {},
   "outputs": [
    {
     "data": {
      "text/plain": [
       "1"
      ]
     },
     "execution_count": 42,
     "metadata": {},
     "output_type": "execute_result"
    }
   ],
   "source": [
    "len(pdf_reader.pages)"
   ]
  },
  {
   "cell_type": "code",
   "execution_count": 43,
   "id": "a113b00c-f2cb-4a7b-a181-7ce335b908ae",
   "metadata": {},
   "outputs": [],
   "source": [
    "page_one = pdf_reader.pages[0]"
   ]
  },
  {
   "cell_type": "code",
   "execution_count": 44,
   "id": "c4640c0e-2f46-44df-8cb2-07f295dfb6fe",
   "metadata": {},
   "outputs": [],
   "source": [
    "page_one_text = page_one.extract_text()"
   ]
  },
  {
   "cell_type": "code",
   "execution_count": 45,
   "id": "da3e9449-5f9c-484b-90e0-30f8d6030506",
   "metadata": {},
   "outputs": [
    {
     "data": {
      "text/plain": [
       "'8/13/23, 1:05 PM State Bank Collect\\nhttps://www .onlinesbi.sbi/sbicollect/fsssuccessresponseredirect.htm 1/1Return to State Bank Collect Home PagePayment Progress\\nSelect Payee Enter Payment Details\\uf054\\nVerify Payment Details\\uf054\\nComplete Payment\\uf054\\nPrint Receipt\\uf054\\nPayment Status\\n PRINCIP AL JNTUK UNIVERSITY  COLLEGE OF ENGINEERING VIZIANAGAR\\nYour transaction has been successfully completed.\\nReference No : DUL4629186\\nAmount : INR 10000\\nTransaction Charge\\n:INR 0.00\\nTotal Payable : INR 10,000.00Date of Payment : 2023-08-13\\n13:05:55.0\\nConvenience\\nCharges :0.0\\nRemarks :\\nROLL  NUMBER : 20VV1A1257 STUDENT NAME : SHAIK V ALI BASHA\\nFATHER NAME : SHAIK KARIMULLA GENDER : MALE\\nCOURSE NAME : BTECH BRACNH NAME : IT\\nYEAR : IV SEMESTER : NA\\nTUTION FEE : 10000\\nPayee : PRINCIP AL JNTUK\\nUNIVERSITY  COLLEGE\\nOF ENGINEERING\\nVIZIANAGAR\\nDepartment : Educational\\nMobile No: 9553599478Payment Category: TUTION FEE\\nEmail ID: valibashashaik9966@gmail.com\\nDownload\\n© State Bank of India Privacy Statement  Disclosures  Terms of Use\\uf00c \\uf00c \\uf00c \\uf00c \\uf111'"
      ]
     },
     "execution_count": 45,
     "metadata": {},
     "output_type": "execute_result"
    }
   ],
   "source": [
    "page_one_text"
   ]
  },
  {
   "cell_type": "markdown",
   "id": "8e17534e-cfaf-417a-927c-761e113aa616",
   "metadata": {},
   "source": [
    "**Adding Pages**"
   ]
  },
  {
   "cell_type": "code",
   "execution_count": 46,
   "id": "3fb12413-e227-4f5e-ac57-b99f461d192b",
   "metadata": {},
   "outputs": [],
   "source": [
    "file2 = open(r\"C:\\Users\\BASHA\\Desktop\\pdf\\bills\\4yearTutionfee.pdf\", 'rb')"
   ]
  },
  {
   "cell_type": "code",
   "execution_count": 47,
   "id": "d34205b1-603d-4656-bd12-880073bdc49f",
   "metadata": {},
   "outputs": [],
   "source": [
    "file_reader = PyPDF2.PdfReader(file)"
   ]
  },
  {
   "cell_type": "code",
   "execution_count": 48,
   "id": "4d2f414b-00cc-43c5-b70c-f5ce208eccc0",
   "metadata": {},
   "outputs": [],
   "source": [
    "page_one = file_reader.pages[0]"
   ]
  },
  {
   "cell_type": "code",
   "execution_count": 49,
   "id": "dfa9d99c-8421-4177-b7b1-ccac3b94f762",
   "metadata": {},
   "outputs": [],
   "source": [
    "page_one_text = page_one.extract_text()"
   ]
  },
  {
   "cell_type": "code",
   "execution_count": 50,
   "id": "5410d88c-093e-4116-ad43-88aaabed548e",
   "metadata": {},
   "outputs": [],
   "source": [
    "pdf_writer = PyPDF2.PdfWriter()"
   ]
  },
  {
   "cell_type": "code",
   "execution_count": 51,
   "id": "c4750e29-5502-42d5-9412-ea358c274cae",
   "metadata": {},
   "outputs": [
    {
     "data": {
      "text/plain": [
       "{'/Type': '/Page',\n",
       " '/Resources': {'/ProcSet': ['/PDF', '/Text', '/ImageB', '/ImageC', '/ImageI'],\n",
       "  '/ExtGState': {'/G3': {'/ca': 1, '/BM': '/Normal'},\n",
       "   '/G6': {'/CA': 1,\n",
       "    '/ca': 1,\n",
       "    '/LC': 0,\n",
       "    '/LJ': 0,\n",
       "    '/LW': 1,\n",
       "    '/ML': 4,\n",
       "    '/SA': True,\n",
       "    '/BM': '/Normal'},\n",
       "   '/G11': {'/CA': 1,\n",
       "    '/ca': 1,\n",
       "    '/LC': 0,\n",
       "    '/LJ': 0,\n",
       "    '/LW': 2,\n",
       "    '/ML': 4,\n",
       "    '/SA': True,\n",
       "    '/BM': '/Normal'}},\n",
       "  '/XObject': {'/X8': {'/Type': '/XObject',\n",
       "    '/Subtype': '/Image',\n",
       "    '/Width': 500,\n",
       "    '/Height': 706,\n",
       "    '/ColorSpace': '/DeviceRGB',\n",
       "    '/BitsPerComponent': 8,\n",
       "    '/Filter': '/DCTDecode',\n",
       "    '/ColorTransform': 0},\n",
       "   '/X9': {'/Type': '/XObject',\n",
       "    '/Subtype': '/Image',\n",
       "    '/Width': 64,\n",
       "    '/Height': 64,\n",
       "    '/ColorSpace': '/DeviceRGB',\n",
       "    '/SMask': {'/Type': '/XObject',\n",
       "     '/Subtype': '/Image',\n",
       "     '/Width': 64,\n",
       "     '/Height': 64,\n",
       "     '/ColorSpace': '/DeviceGray',\n",
       "     '/BitsPerComponent': 8,\n",
       "     '/Filter': '/FlateDecode'},\n",
       "    '/BitsPerComponent': 8,\n",
       "    '/Filter': '/FlateDecode'}},\n",
       "  '/Font': {'/F4': {'/Type': '/Font',\n",
       "    '/Subtype': '/Type0',\n",
       "    '/BaseFont': '/AAAAAA+ArialMT',\n",
       "    '/Encoding': '/Identity-H',\n",
       "    '/DescendantFonts': [IndirectObject(12, 0, 2266672534096)],\n",
       "    '/ToUnicode': {'/Filter': '/FlateDecode'}},\n",
       "   '/F5': {'/Type': '/Font',\n",
       "    '/Subtype': '/Type0',\n",
       "    '/BaseFont': '/BAAAAA+Arial-BoldMT',\n",
       "    '/Encoding': '/Identity-H',\n",
       "    '/DescendantFonts': [IndirectObject(17, 0, 2266672534096)],\n",
       "    '/ToUnicode': {'/Filter': '/FlateDecode'}},\n",
       "   '/F7': {'/Type': '/Font',\n",
       "    '/Subtype': '/Type0',\n",
       "    '/BaseFont': '/CAAAAA+FontAwesome5Free-Solid',\n",
       "    '/Encoding': '/Identity-H',\n",
       "    '/DescendantFonts': [IndirectObject(22, 0, 2266672534096)],\n",
       "    '/ToUnicode': {'/Filter': '/FlateDecode'}}}},\n",
       " '/MediaBox': [0, 0, 842.88, 1192.07996],\n",
       " '/Annots': [IndirectObject(26, 0, 2266672534096),\n",
       "  IndirectObject(27, 0, 2266672534096),\n",
       "  IndirectObject(28, 0, 2266672534096),\n",
       "  IndirectObject(29, 0, 2266672534096),\n",
       "  IndirectObject(30, 0, 2266672534096)],\n",
       " '/Contents': {'/Filter': '/FlateDecode'},\n",
       " '/Parent': {'/Type': '/Pages',\n",
       "  '/Count': 1,\n",
       "  '/Kids': [IndirectObject(4, 0, 2266672534096)]}}"
      ]
     },
     "execution_count": 51,
     "metadata": {},
     "output_type": "execute_result"
    }
   ],
   "source": [
    "pdf_writer.add_page(page_one)"
   ]
  },
  {
   "cell_type": "code",
   "execution_count": 52,
   "id": "7c9fb37f-55e6-4930-83f6-f61a58ac1efc",
   "metadata": {},
   "outputs": [],
   "source": [
    "pdf_output = open(\"New_file.pdf\", 'wb')"
   ]
  },
  {
   "cell_type": "code",
   "execution_count": 53,
   "id": "d1ef561a-5320-409f-8432-2b7ad7a07c8c",
   "metadata": {},
   "outputs": [
    {
     "data": {
      "text/plain": [
       "(False, <_io.BufferedWriter name='New_file.pdf'>)"
      ]
     },
     "execution_count": 53,
     "metadata": {},
     "output_type": "execute_result"
    }
   ],
   "source": [
    "pdf_writer.write(pdf_output)"
   ]
  },
  {
   "cell_type": "code",
   "execution_count": 54,
   "id": "653756b0-59ec-495d-8694-964cd868820c",
   "metadata": {},
   "outputs": [],
   "source": [
    "pdf_output.close()"
   ]
  },
  {
   "cell_type": "code",
   "execution_count": 56,
   "id": "f7390b33-08f2-4a39-9df3-83f3786e00c6",
   "metadata": {},
   "outputs": [],
   "source": [
    "file2.close()\n",
    "file.close()"
   ]
  },
  {
   "cell_type": "code",
   "execution_count": null,
   "id": "b49ec622-2bd3-4e0b-a6fa-a65bf3debcbe",
   "metadata": {},
   "outputs": [],
   "source": []
  }
 ],
 "metadata": {
  "kernelspec": {
   "display_name": "Python 3 (ipykernel)",
   "language": "python",
   "name": "python3"
  },
  "language_info": {
   "codemirror_mode": {
    "name": "ipython",
    "version": 3
   },
   "file_extension": ".py",
   "mimetype": "text/x-python",
   "name": "python",
   "nbconvert_exporter": "python",
   "pygments_lexer": "ipython3",
   "version": "3.11.7"
  }
 },
 "nbformat": 4,
 "nbformat_minor": 5
}
