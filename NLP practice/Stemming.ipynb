{
 "cells": [
  {
   "cell_type": "code",
   "execution_count": 1,
   "id": "f2b130ee-af59-4dde-82e6-9eb55193378b",
   "metadata": {},
   "outputs": [],
   "source": [
    "import nltk"
   ]
  },
  {
   "cell_type": "markdown",
   "id": "870d6f6e-9e9e-463b-b69c-1854ae3d307c",
   "metadata": {},
   "source": [
    "**Porter Stemmer**"
   ]
  },
  {
   "cell_type": "code",
   "execution_count": 2,
   "id": "6831c8bf-0edf-4eb7-93d1-d191b6b5e345",
   "metadata": {},
   "outputs": [],
   "source": [
    "from nltk.stem.porter import PorterStemmer\n",
    "p_stem = PorterStemmer()"
   ]
  },
  {
   "cell_type": "code",
   "execution_count": 3,
   "id": "8145a4fe-1654-4e65-99f5-b4bfe50f6b5e",
   "metadata": {},
   "outputs": [],
   "source": [
    "words = ['run', 'runner', 'running', 'ran', 'runs', 'easily', 'fairly']"
   ]
  },
  {
   "cell_type": "code",
   "execution_count": 5,
   "id": "75854b90-620e-42bf-ae4e-b07266cb00c3",
   "metadata": {},
   "outputs": [
    {
     "name": "stdout",
     "output_type": "stream",
     "text": [
      "run---->run\n",
      "runner---->runner\n",
      "running---->run\n",
      "ran---->ran\n",
      "runs---->run\n",
      "easily---->easili\n",
      "fairly---->fairli\n"
     ]
    }
   ],
   "source": [
    "for i in words:\n",
    "    print(i + '---->' + p_stem.stem(i))"
   ]
  },
  {
   "cell_type": "markdown",
   "id": "7e60713c-4993-4938-b66b-4d67026ea7ab",
   "metadata": {},
   "source": [
    "**Snowball stemmer**"
   ]
  },
  {
   "cell_type": "code",
   "execution_count": 7,
   "id": "a6464ddf-0aa8-48b7-b675-f6731977a1bd",
   "metadata": {},
   "outputs": [],
   "source": [
    "from nltk.stem.snowball import SnowballStemmer\n",
    "s_stemmer = SnowballStemmer(language=\"english\")"
   ]
  },
  {
   "cell_type": "code",
   "execution_count": 8,
   "id": "f7d26fe2-039a-4503-a77c-9c9b9b4a9592",
   "metadata": {},
   "outputs": [],
   "source": [
    "words = ['run', 'runner', 'running', 'ran', 'runs', 'easily', 'fairly']"
   ]
  },
  {
   "cell_type": "code",
   "execution_count": 9,
   "id": "23ca6e7d-d7f6-4f42-ad94-2dd60a63e8dd",
   "metadata": {},
   "outputs": [
    {
     "name": "stdout",
     "output_type": "stream",
     "text": [
      "run--->run\n",
      "runner--->runner\n",
      "running--->run\n",
      "ran--->ran\n",
      "runs--->run\n",
      "easily--->easili\n",
      "fairly--->fair\n"
     ]
    }
   ],
   "source": [
    "for word in words:\n",
    "    print(word + '--->' + s_stemmer.stem(word))"
   ]
  },
  {
   "cell_type": "code",
   "execution_count": null,
   "id": "adc280be-06f1-4a0f-ad73-315a0f9f9a97",
   "metadata": {},
   "outputs": [],
   "source": []
  }
 ],
 "metadata": {
  "kernelspec": {
   "display_name": "Python 3 (ipykernel)",
   "language": "python",
   "name": "python3"
  },
  "language_info": {
   "codemirror_mode": {
    "name": "ipython",
    "version": 3
   },
   "file_extension": ".py",
   "mimetype": "text/x-python",
   "name": "python",
   "nbconvert_exporter": "python",
   "pygments_lexer": "ipython3",
   "version": "3.11.7"
  }
 },
 "nbformat": 4,
 "nbformat_minor": 5
}
