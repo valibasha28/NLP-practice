{
 "cells": [
  {
   "cell_type": "code",
   "execution_count": 1,
   "id": "51ce4c69-aa2d-46ec-b8cd-ae389c6ebb8c",
   "metadata": {},
   "outputs": [],
   "source": [
    "import spacy\n",
    "nlp = spacy.load('en_core_web_sm')"
   ]
  },
  {
   "cell_type": "code",
   "execution_count": 2,
   "id": "36c0f75c-cefe-4641-8e6a-232a90cac691",
   "metadata": {},
   "outputs": [
    {
     "name": "stdout",
     "output_type": "stream",
     "text": [
      "{'how', 'none', '‘d', '‘re', 'an', 'during', 'up', 'his', 'hereupon', 'any', 'before', 'thru', 'many', 'hundred', 'off', 'because', 'more', 'seem', 'some', 'does', 'between', 'own', 'therein', 'being', 'third', 'you', 'be', 'amongst', 'back', 'make', 'toward', 'perhaps', 'everything', 'wherein', 'as', 'done', 'call', 'not', 'latterly', 'somewhere', 'neither', 'on', 'and', '’d', 'only', 'often', 'whereas', 'using', 'also', 'already', 'keep', 'after', 'ourselves', 'whoever', 'bottom', 'everyone', 'to', 'former', 'something', 'what', \"'ve\", 'is', 'this', 'among', 'would', 'whole', 'cannot', 'full', 'still', 'however', 'please', 'herself', 'though', 'really', 'thereby', 'besides', 'had', 'nor', 'thereupon', 'am', 'whom', 'top', 'seemed', 'yet', '‘s', 'hereafter', \"n't\", 'elsewhere', 'nevertheless', 'although', 'which', 'me', 'there', 'side', 'here', 'each', 'fifteen', 'by', 'has', 'somehow', 'now', 'them', 'us', 'whereafter', 'behind', 'thence', '’s', 'never', 'if', 'beforehand', 'yours', 'whereupon', 'all', 'above', 'much', 'became', 'beside', 'she', 'could', 'i', 'been', 'several', 'serious', 'whenever', 'such', 'someone', 'anyway', 'that', 'with', 'your', 'part', 'formerly', 'empty', '’m', 'ca', 'same', 'whence', 'whereby', 'anywhere', 'alone', 'get', 'out', 'forty', 'twenty', 'within', 'next', 'the', 'ten', 'quite', 'very', 'without', 'once', 'anyone', \"'ll\", 'themselves', 'amount', 'her', 'used', 'these', 'noone', 'whither', 'who', 'either', 'sometimes', 'seems', 'hereby', 'whose', \"'s\", 'take', 'almost', 'then', 'along', 'sometime', 'was', 'again', 'most', 'first', 'both', 'unless', 'few', 'every', 'since', 'ours', 'from', 'its', 'towards', 'must', 'he', 'twelve', 'indeed', 'can', 'itself', 'least', 'others', 'otherwise', 'say', 'so', 'may', 'nine', 'other', 'down', 'my', 'see', 'n’t', 'six', 'thus', 'hers', 'yourself', 'three', 'ever', 'him', 'afterwards', \"'m\", '’ll', 'nowhere', 'except', 'regarding', 'than', 'last', 'have', 'thereafter', 'himself', 'were', 'per', 'sixty', 'under', 'at', 'they', 'herein', 'anyhow', 'might', 'myself', 'mostly', 'for', '‘ve', 'meanwhile', 'those', 'seeming', 'while', '‘ll', 'until', '’ve', 'becomes', 'upon', 'well', 'rather', 'namely', 'everywhere', 'do', 'across', 'why', 'enough', 'should', 'two', 'below', 'of', 'via', 'in', 'too', 'move', 'put', 'will', 'therefore', 'doing', 'about', 'latter', 'wherever', 're', 'become', 'nothing', '‘m', 'various', 'our', 'through', 'eight', 'made', 'another', 'go', '’re', 'four', 'did', 'mine', 'yourselves', 'together', 'one', 'due', 'becoming', 'no', 'into', 'less', 'hence', 'nobody', 'give', 'a', 'always', 'but', 'whatever', 'over', 'are', 'just', \"'d\", 'show', 'fifty', 'throughout', 'name', \"'re\", 'front', 'further', 'n‘t', 'their', 'around', 'beyond', 'anything', 'five', 'or', 'eleven', 'else', 'we', 'whether', 'it', 'against', 'where', 'moreover', 'when', 'onto', 'even'}\n"
     ]
    }
   ],
   "source": [
    "print(nlp.Defaults.stop_words)"
   ]
  },
  {
   "cell_type": "code",
   "execution_count": 3,
   "id": "deacf4b2-7159-4d1d-9167-0723e3e2c649",
   "metadata": {},
   "outputs": [
    {
     "data": {
      "text/plain": [
       "326"
      ]
     },
     "execution_count": 3,
     "metadata": {},
     "output_type": "execute_result"
    }
   ],
   "source": [
    "len(nlp.Defaults.stop_words)"
   ]
  },
  {
   "cell_type": "code",
   "execution_count": 4,
   "id": "8ce65aef-490e-4ef6-a096-bcd34010c7fb",
   "metadata": {},
   "outputs": [
    {
     "data": {
      "text/plain": [
       "True"
      ]
     },
     "execution_count": 4,
     "metadata": {},
     "output_type": "execute_result"
    }
   ],
   "source": [
    "nlp.vocab['first'].is_stop"
   ]
  },
  {
   "cell_type": "code",
   "execution_count": 5,
   "id": "2170817b-6b44-4569-a272-95cc580cda59",
   "metadata": {},
   "outputs": [
    {
     "data": {
      "text/plain": [
       "False"
      ]
     },
     "execution_count": 5,
     "metadata": {},
     "output_type": "execute_result"
    }
   ],
   "source": [
    "nlp.vocab['bashaaa'].is_stop"
   ]
  },
  {
   "cell_type": "markdown",
   "id": "fcccf787-e658-4499-9e76-e019c6f6d82e",
   "metadata": {},
   "source": [
    "**Adding a stop word to the Vocabulary**"
   ]
  },
  {
   "cell_type": "code",
   "execution_count": 6,
   "id": "a7326299-c529-46cd-a3d7-43c2f76bf93c",
   "metadata": {},
   "outputs": [],
   "source": [
    "nlp.Defaults.stop_words.add('basha')\n",
    "\n",
    "nlp.vocab['basha'].is_stop = True"
   ]
  },
  {
   "cell_type": "code",
   "execution_count": 7,
   "id": "a6eda333-13f8-4cb1-a376-7d597e86fd3e",
   "metadata": {},
   "outputs": [
    {
     "data": {
      "text/plain": [
       "True"
      ]
     },
     "execution_count": 7,
     "metadata": {},
     "output_type": "execute_result"
    }
   ],
   "source": [
    "nlp.vocab['basha'].is_stop"
   ]
  },
  {
   "cell_type": "code",
   "execution_count": 8,
   "id": "70888509-43c3-4925-b50d-988095890fab",
   "metadata": {},
   "outputs": [
    {
     "data": {
      "text/plain": [
       "327"
      ]
     },
     "execution_count": 8,
     "metadata": {},
     "output_type": "execute_result"
    }
   ],
   "source": [
    "len(nlp.Defaults.stop_words)"
   ]
  },
  {
   "cell_type": "markdown",
   "id": "b4498745-1351-4783-b726-61cf2498eb35",
   "metadata": {},
   "source": [
    "**Removing stop word from the vocabulary**"
   ]
  },
  {
   "cell_type": "code",
   "execution_count": 9,
   "id": "96d37c97-13dd-4b04-b443-75bb01eb8155",
   "metadata": {},
   "outputs": [],
   "source": [
    "nlp.Defaults.stop_words.remove('basha')\n",
    "\n",
    "nlp.vocab['basha'].is_stop = False"
   ]
  },
  {
   "cell_type": "code",
   "execution_count": 10,
   "id": "fba2c314-96f6-421b-b472-9a40e790c8d0",
   "metadata": {},
   "outputs": [
    {
     "data": {
      "text/plain": [
       "False"
      ]
     },
     "execution_count": 10,
     "metadata": {},
     "output_type": "execute_result"
    }
   ],
   "source": [
    "nlp.vocab['basha'].is_stop"
   ]
  },
  {
   "cell_type": "code",
   "execution_count": 11,
   "id": "008f624b-15ad-465b-8699-ed38edf8557f",
   "metadata": {},
   "outputs": [
    {
     "data": {
      "text/plain": [
       "326"
      ]
     },
     "execution_count": 11,
     "metadata": {},
     "output_type": "execute_result"
    }
   ],
   "source": [
    "len(nlp.Defaults.stop_words)"
   ]
  },
  {
   "cell_type": "markdown",
   "id": "631f3d8b-45df-4b25-8fae-7a5ad94f4ef7",
   "metadata": {},
   "source": [
    "**Stop words in NLTK**"
   ]
  },
  {
   "cell_type": "code",
   "execution_count": 12,
   "id": "b1d7c8a5-62a8-457d-8b1d-b869c3b9edcc",
   "metadata": {},
   "outputs": [],
   "source": [
    "import nltk"
   ]
  },
  {
   "cell_type": "code",
   "execution_count": 13,
   "id": "ae63d385-e038-423f-91a6-285f346ff35f",
   "metadata": {},
   "outputs": [
    {
     "name": "stderr",
     "output_type": "stream",
     "text": [
      "[nltk_data] Downloading package stopwords to\n",
      "[nltk_data]     C:\\Users\\BASHA\\AppData\\Roaming\\nltk_data...\n",
      "[nltk_data]   Unzipping corpora\\stopwords.zip.\n"
     ]
    },
    {
     "data": {
      "text/plain": [
       "True"
      ]
     },
     "execution_count": 13,
     "metadata": {},
     "output_type": "execute_result"
    }
   ],
   "source": [
    "nltk.download('stopwords')"
   ]
  },
  {
   "cell_type": "code",
   "execution_count": 14,
   "id": "bd84c148-440c-4ce6-8a2f-e1328ffaf281",
   "metadata": {},
   "outputs": [],
   "source": [
    "from nltk.corpus import stopwords\n",
    "stop_words = stopwords.words('english')"
   ]
  },
  {
   "cell_type": "code",
   "execution_count": 15,
   "id": "ff8fd094-eceb-4521-9c0e-c9708c98991f",
   "metadata": {},
   "outputs": [
    {
     "data": {
      "text/plain": [
       "list"
      ]
     },
     "execution_count": 15,
     "metadata": {},
     "output_type": "execute_result"
    }
   ],
   "source": [
    "type(stop_words)"
   ]
  },
  {
   "cell_type": "code",
   "execution_count": 16,
   "id": "7f383c76-d7f1-4f89-a712-5b65e936ad5c",
   "metadata": {},
   "outputs": [
    {
     "data": {
      "text/plain": [
       "179"
      ]
     },
     "execution_count": 16,
     "metadata": {},
     "output_type": "execute_result"
    }
   ],
   "source": [
    "len(stop_words)"
   ]
  },
  {
   "cell_type": "code",
   "execution_count": 17,
   "id": "b187da60-181e-40e0-8908-b9a971fca774",
   "metadata": {},
   "outputs": [
    {
     "name": "stdout",
     "output_type": "stream",
     "text": [
      "['a', 'about', 'above', 'after', 'again', 'against', 'ain', 'all', 'am', 'an', 'and', 'any', 'are', 'aren', \"aren't\", 'as', 'at', 'be', 'because', 'been', 'before', 'being', 'below', 'between', 'both', 'but', 'by', 'can', 'couldn', \"couldn't\", 'd', 'did', 'didn', \"didn't\", 'do', 'does', 'doesn', \"doesn't\", 'doing', 'don', \"don't\", 'down', 'during', 'each', 'few', 'for', 'from', 'further', 'had', 'hadn', \"hadn't\", 'has', 'hasn', \"hasn't\", 'have', 'haven', \"haven't\", 'having', 'he', 'her', 'here', 'hers', 'herself', 'him', 'himself', 'his', 'how', 'i', 'if', 'in', 'into', 'is', 'isn', \"isn't\", 'it', \"it's\", 'its', 'itself', 'just', 'll', 'm', 'ma', 'me', 'mightn', \"mightn't\", 'more', 'most', 'mustn', \"mustn't\", 'my', 'myself', 'needn', \"needn't\", 'no', 'nor', 'not', 'now', 'o', 'of', 'off', 'on', 'once', 'only', 'or', 'other', 'our', 'ours', 'ourselves', 'out', 'over', 'own', 're', 's', 'same', 'shan', \"shan't\", 'she', \"she's\", 'should', \"should've\", 'shouldn', \"shouldn't\", 'so', 'some', 'such', 't', 'than', 'that', \"that'll\", 'the', 'their', 'theirs', 'them', 'themselves', 'then', 'there', 'these', 'they', 'this', 'those', 'through', 'to', 'too', 'under', 'until', 'up', 've', 'very', 'was', 'wasn', \"wasn't\", 'we', 'were', 'weren', \"weren't\", 'what', 'when', 'where', 'which', 'while', 'who', 'whom', 'why', 'will', 'with', 'won', \"won't\", 'wouldn', \"wouldn't\", 'y', 'you', \"you'd\", \"you'll\", \"you're\", \"you've\", 'your', 'yours', 'yourself', 'yourselves']\n"
     ]
    }
   ],
   "source": [
    "print(sorted(stop_words))"
   ]
  },
  {
   "cell_type": "markdown",
   "id": "d546a484-bffe-4a1d-8f3b-60de03d512d9",
   "metadata": {},
   "source": [
    "**Stop words in Scikit-Learn**"
   ]
  },
  {
   "cell_type": "code",
   "execution_count": 18,
   "id": "8a24d946-23c6-458a-9585-3094684913df",
   "metadata": {},
   "outputs": [],
   "source": [
    "from sklearn.feature_extraction import text\n",
    "stop_words = text.ENGLISH_STOP_WORDS"
   ]
  },
  {
   "cell_type": "code",
   "execution_count": 19,
   "id": "46675891-8a80-48b9-adbd-e875b5f70156",
   "metadata": {},
   "outputs": [
    {
     "data": {
      "text/plain": [
       "318"
      ]
     },
     "execution_count": 19,
     "metadata": {},
     "output_type": "execute_result"
    }
   ],
   "source": [
    "len(stop_words)"
   ]
  },
  {
   "cell_type": "code",
   "execution_count": 20,
   "id": "c734ce2e-d3bd-45a0-a78f-0b0f29b611b7",
   "metadata": {},
   "outputs": [
    {
     "data": {
      "text/plain": [
       "frozenset"
      ]
     },
     "execution_count": 20,
     "metadata": {},
     "output_type": "execute_result"
    }
   ],
   "source": [
    "type(stop_words)"
   ]
  },
  {
   "cell_type": "code",
   "execution_count": 21,
   "id": "48d78e4e-cfe2-4f07-87f0-57478059beff",
   "metadata": {},
   "outputs": [
    {
     "name": "stdout",
     "output_type": "stream",
     "text": [
      "['a', 'about', 'above', 'across', 'after', 'afterwards', 'again', 'against', 'all', 'almost', 'alone', 'along', 'already', 'also', 'although', 'always', 'am', 'among', 'amongst', 'amoungst', 'amount', 'an', 'and', 'another', 'any', 'anyhow', 'anyone', 'anything', 'anyway', 'anywhere', 'are', 'around', 'as', 'at', 'back', 'be', 'became', 'because', 'become', 'becomes', 'becoming', 'been', 'before', 'beforehand', 'behind', 'being', 'below', 'beside', 'besides', 'between', 'beyond', 'bill', 'both', 'bottom', 'but', 'by', 'call', 'can', 'cannot', 'cant', 'co', 'con', 'could', 'couldnt', 'cry', 'de', 'describe', 'detail', 'do', 'done', 'down', 'due', 'during', 'each', 'eg', 'eight', 'either', 'eleven', 'else', 'elsewhere', 'empty', 'enough', 'etc', 'even', 'ever', 'every', 'everyone', 'everything', 'everywhere', 'except', 'few', 'fifteen', 'fifty', 'fill', 'find', 'fire', 'first', 'five', 'for', 'former', 'formerly', 'forty', 'found', 'four', 'from', 'front', 'full', 'further', 'get', 'give', 'go', 'had', 'has', 'hasnt', 'have', 'he', 'hence', 'her', 'here', 'hereafter', 'hereby', 'herein', 'hereupon', 'hers', 'herself', 'him', 'himself', 'his', 'how', 'however', 'hundred', 'i', 'ie', 'if', 'in', 'inc', 'indeed', 'interest', 'into', 'is', 'it', 'its', 'itself', 'keep', 'last', 'latter', 'latterly', 'least', 'less', 'ltd', 'made', 'many', 'may', 'me', 'meanwhile', 'might', 'mill', 'mine', 'more', 'moreover', 'most', 'mostly', 'move', 'much', 'must', 'my', 'myself', 'name', 'namely', 'neither', 'never', 'nevertheless', 'next', 'nine', 'no', 'nobody', 'none', 'noone', 'nor', 'not', 'nothing', 'now', 'nowhere', 'of', 'off', 'often', 'on', 'once', 'one', 'only', 'onto', 'or', 'other', 'others', 'otherwise', 'our', 'ours', 'ourselves', 'out', 'over', 'own', 'part', 'per', 'perhaps', 'please', 'put', 'rather', 're', 'same', 'see', 'seem', 'seemed', 'seeming', 'seems', 'serious', 'several', 'she', 'should', 'show', 'side', 'since', 'sincere', 'six', 'sixty', 'so', 'some', 'somehow', 'someone', 'something', 'sometime', 'sometimes', 'somewhere', 'still', 'such', 'system', 'take', 'ten', 'than', 'that', 'the', 'their', 'them', 'themselves', 'then', 'thence', 'there', 'thereafter', 'thereby', 'therefore', 'therein', 'thereupon', 'these', 'they', 'thick', 'thin', 'third', 'this', 'those', 'though', 'three', 'through', 'throughout', 'thru', 'thus', 'to', 'together', 'too', 'top', 'toward', 'towards', 'twelve', 'twenty', 'two', 'un', 'under', 'until', 'up', 'upon', 'us', 'very', 'via', 'was', 'we', 'well', 'were', 'what', 'whatever', 'when', 'whence', 'whenever', 'where', 'whereafter', 'whereas', 'whereby', 'wherein', 'whereupon', 'wherever', 'whether', 'which', 'while', 'whither', 'who', 'whoever', 'whole', 'whom', 'whose', 'why', 'will', 'with', 'within', 'without', 'would', 'yet', 'you', 'your', 'yours', 'yourself', 'yourselves']\n"
     ]
    }
   ],
   "source": [
    "print(sorted(list(stop_words)))"
   ]
  },
  {
   "cell_type": "code",
   "execution_count": null,
   "id": "2bc20548-a330-4452-9ebb-1b3f48388ff1",
   "metadata": {},
   "outputs": [],
   "source": []
  }
 ],
 "metadata": {
  "kernelspec": {
   "display_name": "Python 3 (ipykernel)",
   "language": "python",
   "name": "python3"
  },
  "language_info": {
   "codemirror_mode": {
    "name": "ipython",
    "version": 3
   },
   "file_extension": ".py",
   "mimetype": "text/x-python",
   "name": "python",
   "nbconvert_exporter": "python",
   "pygments_lexer": "ipython3",
   "version": "3.11.7"
  }
 },
 "nbformat": 4,
 "nbformat_minor": 5
}
