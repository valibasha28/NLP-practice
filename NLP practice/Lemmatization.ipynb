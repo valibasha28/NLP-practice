{
 "cells": [
  {
   "cell_type": "code",
   "execution_count": 1,
   "id": "b2c961a3-37cc-468a-9ec7-7bf18ff70d80",
   "metadata": {},
   "outputs": [],
   "source": [
    "import spacy\n",
    "nlp = spacy.load('en_core_web_sm')"
   ]
  },
  {
   "cell_type": "code",
   "execution_count": 2,
   "id": "1cc58876-550e-40c7-b208-0f5a6d4c304b",
   "metadata": {},
   "outputs": [],
   "source": [
    "doc = nlp(\"Iam a runner because i am running daily and also i ran today, i will also run tommorrow\")"
   ]
  },
  {
   "cell_type": "code",
   "execution_count": 3,
   "id": "edd1a6c8-9c0d-447a-8521-9ca616434b25",
   "metadata": {},
   "outputs": [
    {
     "name": "stdout",
     "output_type": "stream",
     "text": [
      "Iam \t VERB \t Iam\n",
      "a \t DET \t a\n",
      "runner \t NOUN \t runner\n",
      "because \t SCONJ \t because\n",
      "i \t PRON \t I\n",
      "am \t AUX \t be\n",
      "running \t VERB \t run\n",
      "daily \t ADV \t daily\n",
      "and \t CCONJ \t and\n",
      "also \t ADV \t also\n",
      "i \t PRON \t I\n",
      "ran \t VERB \t run\n",
      "today \t NOUN \t today\n",
      ", \t PUNCT \t ,\n",
      "i \t PRON \t I\n",
      "will \t AUX \t will\n",
      "also \t ADV \t also\n",
      "run \t VERB \t run\n",
      "tommorrow \t NOUN \t tommorrow\n"
     ]
    }
   ],
   "source": [
    "for token in doc:\n",
    "    print(token.text, '\\t', token.pos_, '\\t', token.lemma_)"
   ]
  },
  {
   "cell_type": "code",
   "execution_count": 4,
   "id": "e8dc62b9-9980-47ec-b938-cd074be0ce77",
   "metadata": {},
   "outputs": [],
   "source": [
    "def lemma_show(text):\n",
    "    for token in text:\n",
    "        print(f'{token.text:{12}} {token.pos_:{8}} {token.lemma:<{22}} {token.lemma_}')"
   ]
  },
  {
   "cell_type": "code",
   "execution_count": 5,
   "id": "dc5bb9ac-ff5e-45bf-b722-9630b0c9eec6",
   "metadata": {},
   "outputs": [
    {
     "name": "stdout",
     "output_type": "stream",
     "text": [
      "Iam          VERB     12956509474475040067   Iam\n",
      "a            DET      11901859001352538922   a\n",
      "runner       NOUN     12640964157389618806   runner\n",
      "because      SCONJ    16950148841647037698   because\n",
      "i            PRON     4690420944186131903    I\n",
      "am           AUX      10382539506755952630   be\n",
      "running      VERB     12767647472892411841   run\n",
      "daily        ADV      7369875328865446693    daily\n",
      "and          CCONJ    2283656566040971221    and\n",
      "also         ADV      12084876542534825196   also\n",
      "i            PRON     4690420944186131903    I\n",
      "ran          VERB     12767647472892411841   run\n",
      "today        NOUN     11042482332948150395   today\n",
      ",            PUNCT    2593208677638477497    ,\n",
      "i            PRON     4690420944186131903    I\n",
      "will         AUX      18307573501153647118   will\n",
      "also         ADV      12084876542534825196   also\n",
      "run          VERB     12767647472892411841   run\n",
      "tommorrow    NOUN     15839087253969881949   tommorrow\n"
     ]
    }
   ],
   "source": [
    "lemma_show(doc)"
   ]
  },
  {
   "cell_type": "code",
   "execution_count": null,
   "id": "eaeda3af-f199-4aaa-9133-8e6c0e02d4b3",
   "metadata": {},
   "outputs": [],
   "source": []
  }
 ],
 "metadata": {
  "kernelspec": {
   "display_name": "Python 3 (ipykernel)",
   "language": "python",
   "name": "python3"
  },
  "language_info": {
   "codemirror_mode": {
    "name": "ipython",
    "version": 3
   },
   "file_extension": ".py",
   "mimetype": "text/x-python",
   "name": "python",
   "nbconvert_exporter": "python",
   "pygments_lexer": "ipython3",
   "version": "3.11.7"
  }
 },
 "nbformat": 4,
 "nbformat_minor": 5
}
