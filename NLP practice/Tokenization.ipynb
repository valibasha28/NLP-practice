{
 "cells": [
  {
   "cell_type": "code",
   "execution_count": 24,
   "id": "e5c7ba58-fe4b-4926-961f-3c71e42a4c2b",
   "metadata": {},
   "outputs": [],
   "source": [
    "import spacy\n",
    "nlp = spacy.load('en_core_web_sm')"
   ]
  },
  {
   "cell_type": "code",
   "execution_count": 25,
   "id": "048abf7f-afdb-4949-81ba-f486314d789d",
   "metadata": {},
   "outputs": [],
   "source": [
    "mystring = \"Welcome to my channel BASHA.\""
   ]
  },
  {
   "cell_type": "code",
   "execution_count": 26,
   "id": "d34e08bc-d1a4-47e5-88b1-228f419654c6",
   "metadata": {},
   "outputs": [
    {
     "data": {
      "text/plain": [
       "'Welcome to my channel BASHA.'"
      ]
     },
     "execution_count": 26,
     "metadata": {},
     "output_type": "execute_result"
    }
   ],
   "source": [
    "mystring"
   ]
  },
  {
   "cell_type": "code",
   "execution_count": 27,
   "id": "77427a08-db79-40e1-be15-15c50a633156",
   "metadata": {},
   "outputs": [
    {
     "data": {
      "text/plain": [
       "Welcome to my channel BASHA."
      ]
     },
     "execution_count": 27,
     "metadata": {},
     "output_type": "execute_result"
    }
   ],
   "source": [
    "doc = nlp(mystring)\n",
    "doc"
   ]
  },
  {
   "cell_type": "code",
   "execution_count": 28,
   "id": "cedf0536-f218-43ff-9b57-e663128ed412",
   "metadata": {},
   "outputs": [
    {
     "name": "stdout",
     "output_type": "stream",
     "text": [
      "Welcome | to | my | channel | BASHA | . | "
     ]
    }
   ],
   "source": [
    "for token in doc:\n",
    "    print(token.text, end=' | ')"
   ]
  },
  {
   "cell_type": "code",
   "execution_count": 29,
   "id": "2befed06-8bfa-4210-8382-b8f2b6e5ae3e",
   "metadata": {},
   "outputs": [],
   "source": [
    "mystring2 = '\"We\\'re moving to L.A. !\"'"
   ]
  },
  {
   "cell_type": "code",
   "execution_count": 30,
   "id": "4d7cb814-a41d-4403-8c90-1af809b63a6e",
   "metadata": {},
   "outputs": [],
   "source": [
    "doc2 = nlp(mystring2)"
   ]
  },
  {
   "cell_type": "code",
   "execution_count": 31,
   "id": "714930f2-022f-4c2c-9243-311bdf5ddac7",
   "metadata": {},
   "outputs": [
    {
     "name": "stdout",
     "output_type": "stream",
     "text": [
      "\" | We | 're | moving | to | L.A. | ! | \" | "
     ]
    }
   ],
   "source": [
    "for token in doc2:\n",
    "    print(token.text, end=' | ')"
   ]
  },
  {
   "cell_type": "code",
   "execution_count": 32,
   "id": "da7bdd2e-d708-4d8c-adcd-da87767bd243",
   "metadata": {},
   "outputs": [
    {
     "data": {
      "text/plain": [
       "6"
      ]
     },
     "execution_count": 32,
     "metadata": {},
     "output_type": "execute_result"
    }
   ],
   "source": [
    "len(doc)"
   ]
  },
  {
   "cell_type": "code",
   "execution_count": 33,
   "id": "f0bb4f35-c9ef-4012-adea-07effb719d29",
   "metadata": {},
   "outputs": [
    {
     "data": {
      "text/plain": [
       "8"
      ]
     },
     "execution_count": 33,
     "metadata": {},
     "output_type": "execute_result"
    }
   ],
   "source": [
    "len(doc2)"
   ]
  },
  {
   "cell_type": "markdown",
   "id": "7ae061af-9464-49da-b15e-3bca3c495ae8",
   "metadata": {},
   "source": [
    "**Named entity**"
   ]
  },
  {
   "cell_type": "code",
   "execution_count": 34,
   "id": "6532b266-dbc2-4cb7-b656-1644e4ef5af7",
   "metadata": {},
   "outputs": [],
   "source": [
    "docu = nlp(\"Apple is looking at buying a U.K. startup for $6 millions.\")"
   ]
  },
  {
   "cell_type": "code",
   "execution_count": 35,
   "id": "a35838cb-4f95-4bed-b916-7700945fdaa2",
   "metadata": {},
   "outputs": [
    {
     "name": "stdout",
     "output_type": "stream",
     "text": [
      "Apple:is:looking:at:buying:a:U.K.:startup:for:$:6:millions:.:"
     ]
    }
   ],
   "source": [
    "for token in docu:\n",
    "    print(token.text , end=':')"
   ]
  },
  {
   "cell_type": "code",
   "execution_count": 36,
   "id": "cefaa9c6-70c9-4e58-9da8-f23fe7016437",
   "metadata": {},
   "outputs": [
    {
     "name": "stdout",
     "output_type": "stream",
     "text": [
      "Apple - ORG - Companies, agencies, institutions, etc.\n",
      "U.K. - GPE - Countries, cities, states\n",
      "$6 millions - MONEY - Monetary values, including unit\n"
     ]
    }
   ],
   "source": [
    "for entity in docu.ents:\n",
    "    print(entity.text +' - ' + entity.label_ +' - '+ str(spacy.explain(entity.label_)))"
   ]
  },
  {
   "cell_type": "code",
   "execution_count": 37,
   "id": "34e6d99a-ce9c-400f-b2e8-f792a973b932",
   "metadata": {},
   "outputs": [
    {
     "data": {
      "text/html": [
       "<span class=\"tex2jax_ignore\"><div class=\"entities\" style=\"line-height: 2.5; direction: ltr\">\n",
       "<mark class=\"entity\" style=\"background: #7aecec; padding: 0.45em 0.6em; margin: 0 0.25em; line-height: 1; border-radius: 0.35em;\">\n",
       "    Apple\n",
       "    <span style=\"font-size: 0.8em; font-weight: bold; line-height: 1; border-radius: 0.35em; vertical-align: middle; margin-left: 0.5rem\">ORG</span>\n",
       "</mark>\n",
       " is looking at buying a \n",
       "<mark class=\"entity\" style=\"background: #feca74; padding: 0.45em 0.6em; margin: 0 0.25em; line-height: 1; border-radius: 0.35em;\">\n",
       "    U.K.\n",
       "    <span style=\"font-size: 0.8em; font-weight: bold; line-height: 1; border-radius: 0.35em; vertical-align: middle; margin-left: 0.5rem\">GPE</span>\n",
       "</mark>\n",
       " startup for \n",
       "<mark class=\"entity\" style=\"background: #e4e7d2; padding: 0.45em 0.6em; margin: 0 0.25em; line-height: 1; border-radius: 0.35em;\">\n",
       "    $6 millions\n",
       "    <span style=\"font-size: 0.8em; font-weight: bold; line-height: 1; border-radius: 0.35em; vertical-align: middle; margin-left: 0.5rem\">MONEY</span>\n",
       "</mark>\n",
       ".</div></span>"
      ],
      "text/plain": [
       "<IPython.core.display.HTML object>"
      ]
     },
     "metadata": {},
     "output_type": "display_data"
    }
   ],
   "source": [
    "from spacy import displacy\n",
    "displacy.render(docu, style='ent', jupyter=True)"
   ]
  },
  {
   "cell_type": "markdown",
   "id": "16c4fba8-5b68-4cdf-86eb-6c6673550147",
   "metadata": {},
   "source": [
    "**Noun Chunks**"
   ]
  },
  {
   "cell_type": "code",
   "execution_count": 38,
   "id": "5ac440e1-102e-444b-8a69-f41f496f6c7f",
   "metadata": {},
   "outputs": [
    {
     "name": "stdout",
     "output_type": "stream",
     "text": [
      "Red cars\n",
      "higher insurance rates\n"
     ]
    }
   ],
   "source": [
    "doc = nlp(\"Red cars do not carry higher insurance rates \")\n",
    "\n",
    "for chunk in doc.noun_chunks:\n",
    "    print(chunk.text)"
   ]
  },
  {
   "cell_type": "code",
   "execution_count": 39,
   "id": "5a4cfee5-3b6b-41b5-ac30-7bb8b743fc48",
   "metadata": {},
   "outputs": [
    {
     "data": {
      "text/plain": [
       "[('tok2vec', <spacy.pipeline.tok2vec.Tok2Vec at 0x21adb3a3e90>),\n",
       " ('tagger', <spacy.pipeline.tagger.Tagger at 0x21adaebe570>),\n",
       " ('parser', <spacy.pipeline.dep_parser.DependencyParser at 0x21adb44cf20>),\n",
       " ('attribute_ruler',\n",
       "  <spacy.pipeline.attributeruler.AttributeRuler at 0x21adb87b390>),\n",
       " ('lemmatizer', <spacy.lang.en.lemmatizer.EnglishLemmatizer at 0x21adb890610>),\n",
       " ('ner', <spacy.pipeline.ner.EntityRecognizer at 0x21adb44d0e0>)]"
      ]
     },
     "execution_count": 39,
     "metadata": {},
     "output_type": "execute_result"
    }
   ],
   "source": [
    "nlp.pipeline"
   ]
  },
  {
   "cell_type": "code",
   "execution_count": null,
   "id": "68abef18-90e0-41f5-b4cb-36dd65dcb11a",
   "metadata": {},
   "outputs": [],
   "source": []
  }
 ],
 "metadata": {
  "kernelspec": {
   "display_name": "Python 3 (ipykernel)",
   "language": "python",
   "name": "python3"
  },
  "language_info": {
   "codemirror_mode": {
    "name": "ipython",
    "version": 3
   },
   "file_extension": ".py",
   "mimetype": "text/x-python",
   "name": "python",
   "nbconvert_exporter": "python",
   "pygments_lexer": "ipython3",
   "version": "3.11.7"
  }
 },
 "nbformat": 4,
 "nbformat_minor": 5
}
